{
 "cells": [
  {
   "cell_type": "markdown",
   "id": "a80b5398",
   "metadata": {},
   "source": [
    "# Highridge Construction Company Payment Slips"
   ]
  },
  {
   "cell_type": "code",
   "execution_count": 1,
   "id": "4e7c9615",
   "metadata": {},
   "outputs": [
    {
     "name": "stdout",
     "output_type": "stream",
     "text": [
      "{'id': 1, 'name': 'Worker_1', 'salary': 18474, 'gender': 'female', 'employee_level': 'A5', 'department': 'Marketing'}\n",
      "{'id': 2, 'name': 'Worker_2', 'salary': 22591, 'gender': 'male', 'employee_level': 'A2', 'department': 'Marketing'}\n",
      "{'id': 3, 'name': 'Worker_3', 'salary': 7457, 'gender': 'male', 'employee_level': 'A5', 'department': 'Marketing'}\n",
      "{'id': 4, 'name': 'Worker_4', 'salary': 33163, 'gender': 'female', 'employee_level': 'A4', 'department': 'Sales'}\n",
      "{'id': 5, 'name': 'Worker_5', 'salary': 22625, 'gender': 'female', 'employee_level': 'A3', 'department': 'Marketing'}\n",
      "{'id': 6, 'name': 'Worker_6', 'salary': 19503, 'gender': 'female', 'employee_level': 'A1', 'department': 'Finance'}\n",
      "{'id': 7, 'name': 'Worker_7', 'salary': 7407, 'gender': 'male', 'employee_level': 'A1', 'department': 'Finance'}\n",
      "{'id': 8, 'name': 'Worker_8', 'salary': 18575, 'gender': 'male', 'employee_level': 'A3', 'department': 'HR'}\n",
      "{'id': 9, 'name': 'Worker_9', 'salary': 15759, 'gender': 'male', 'employee_level': 'A4', 'department': 'Accounting'}\n",
      "{'id': 10, 'name': 'Worker_10', 'salary': 14299, 'gender': 'male', 'employee_level': 'A2', 'department': 'Marketing'}\n"
     ]
    }
   ],
   "source": [
    "#Create a dynamical list of variables for 400 workers\n",
    "#First import a random list\n",
    "import random\n",
    "\n",
    "#define a list to hold the workers\n",
    "workers = []\n",
    "\n",
    "#Now generate a worker data\n",
    "for i in range(1, 401):\n",
    "    worker = {\n",
    "        \"id\": i,\n",
    "        \"name\": f\"Worker_{i}\",\n",
    "        \"salary\": random.randint(5000, 35000), #assign random salary to workers between $5,000 and $35,000\n",
    "        \"gender\": random.choice([\"male\", \"female\"]), #randomly assign gender to workers both male or female\n",
    "        \"employee_level\": random.choice([\"A1\", \"A2\", \"A3\", \"A4\", \"A5\"]), #randomly assign employee level\n",
    "        \"department\": random.choice([\"HR\", \"Marketing\", \"Accounting\", \"Sales\", \"Finance\", \"IT\"]) #randomly assign departments to the workers\n",
    "    }\n",
    "    workers.append(worker)\n",
    "    \n",
    "#Print the first 10 workers to verify creation of workers list\n",
    "for worker in workers[:10]:\n",
    "    print(worker)"
   ]
  },
  {
   "cell_type": "code",
   "execution_count": 2,
   "id": "1d3050d7",
   "metadata": {},
   "outputs": [
    {
     "name": "stdout",
     "output_type": "stream",
     "text": [
      "id\n",
      "name\n",
      "salary\n",
      "gender\n",
      "employee_level\n",
      "department\n"
     ]
    }
   ],
   "source": [
    "#Generate payment slips for 400 workers\n",
    "workers = [\"id\", \"name\", \"salary\", \"gender\", \"employee_level\", \"department\"]\n",
    "for worker in workers:\n",
    "    print(worker)"
   ]
  },
  {
   "cell_type": "code",
   "execution_count": 3,
   "id": "2e0bbfc1",
   "metadata": {},
   "outputs": [
    {
     "name": "stdout",
     "output_type": "stream",
     "text": [
      "Employee level: A1\n"
     ]
    }
   ],
   "source": [
    "#Conditional statement within FOR loop\n",
    "#Create a variable to assign value\n",
    "salary =15000\n",
    "\n",
    "\n",
    "#conditional statment to assign employee level\n",
    "#If salary is greater than $10,000 and less than $20,000\n",
    "if 10000 < salary < 20000:\n",
    "    employee_level = \"A1\"\n",
    "    print(f\"Employee level: {employee_level}\")\n"
   ]
  },
  {
   "cell_type": "code",
   "execution_count": 1,
   "id": "d9e0f7ad",
   "metadata": {},
   "outputs": [
    {
     "name": "stdout",
     "output_type": "stream",
     "text": [
      "Employee level: A5-F\n"
     ]
    }
   ],
   "source": [
    "#Conditional statement within FOR loop\n",
    "#Create a variable to assign value\n",
    "salary = 15000\n",
    "gender = \"female\"\n",
    "\n",
    "\n",
    "#conditional statment to assign employee level\n",
    "#If salary is greater than $7,500 and less than $30,000\n",
    "if 7500 < salary < 30000 and gender == \"female\":\n",
    "    employee_level = \"A5-F\"\n",
    "        \n",
    "    print(f\"Employee level: {employee_level}\")\n"
   ]
  },
  {
   "cell_type": "code",
   "execution_count": 10,
   "id": "1e28fe47",
   "metadata": {},
   "outputs": [
    {
     "name": "stdout",
     "output_type": "stream",
     "text": [
      "processing payment for Worker_50 with salary 17374\n",
      "Payment processed successfully for Worker_50\n",
      "Finished processing worker 50\n"
     ]
    }
   ],
   "source": [
    "#Exceptional Handling of errors of payment processing\n",
    "#Gather all codes to excecute error handling for payment process\n",
    "import random\n",
    "\n",
    "#define function to generate workers list data\n",
    "def payment_slip(num_workers):\n",
    "    workers = []\n",
    "    for i in range(1, num_workers + 1):\n",
    "        worker = {\n",
    "            \"id\": i,\n",
    "            \"name\": f\"Worker_{i}\",\n",
    "            \"salary\": random.randint(5000, 35000),\n",
    "            \"gender\": random.choice([\"male\", \"female\"]),\n",
    "            \"employee_level\": random.choice([\"A1\", \"A2\", \"A3\", \"A4\", \"A5\"]),\n",
    "            \"department\": random.choice([\"HR\", \"Marketing\", \"Accounting\", \"Sales\", \"Finance\", \"IT\"])\n",
    "    }\n",
    "    workers.append(worker)\n",
    "    return workers\n",
    "\n",
    "#define the function to generate a payment processing slip\n",
    "def payment_processing(workers):\n",
    "     for worker in workers:\n",
    "        try:\n",
    "            #payment processing output\n",
    "            print(f\"processing payment for {worker['name']} with salary {worker['salary']}\")\n",
    "\n",
    "            #conditional statement for employee salary\n",
    "            if 10000< worker[\"salary\"] < 20000:\n",
    "                worker[\"employee_level\"] = \"A1\"\n",
    "            elif 7500 < worker[\"salary\"] < 30000 and worker[\"gender\"] == \"female\":\n",
    "                worker[\"employee_level\"] = \"A5-F\"\n",
    "            else:\n",
    "                worker[\"employee_level\"] = \"Unknown\"\n",
    "        except ValueError as e:\n",
    "            print(f\"Error processing payment for {worker['name']}: {e}\")\n",
    "        except Exception as e:\n",
    "            print(f\"An unexpected error occured for {worker['name']}: {e}\")\n",
    "        else:\n",
    "            print(f\"Payment processed successfully for {worker['name']}\")\n",
    "        finally:\n",
    "            print(f\"Finished processing worker {worker['id']}\")\n",
    "\n",
    "#This will generate the list of workers\n",
    "workers = payment_slip(5)\n",
    "\n",
    "\n",
    "#This will generate the payment slips\n",
    "payment_processing(workers)\n"
   ]
  },
  {
   "cell_type": "code",
   "execution_count": null,
   "id": "e731e00a",
   "metadata": {},
   "outputs": [],
   "source": []
  },
  {
   "cell_type": "code",
   "execution_count": null,
   "id": "7652aa85",
   "metadata": {},
   "outputs": [],
   "source": []
  },
  {
   "cell_type": "code",
   "execution_count": null,
   "id": "16e40131",
   "metadata": {},
   "outputs": [],
   "source": []
  },
  {
   "cell_type": "code",
   "execution_count": null,
   "id": "59450981",
   "metadata": {},
   "outputs": [],
   "source": []
  },
  {
   "cell_type": "code",
   "execution_count": null,
   "id": "b2e31529",
   "metadata": {},
   "outputs": [],
   "source": []
  },
  {
   "cell_type": "code",
   "execution_count": null,
   "id": "83aae773",
   "metadata": {},
   "outputs": [],
   "source": []
  },
  {
   "cell_type": "code",
   "execution_count": null,
   "id": "d706ab62",
   "metadata": {},
   "outputs": [],
   "source": []
  }
 ],
 "metadata": {
  "kernelspec": {
   "display_name": "Python 3 (ipykernel)",
   "language": "python",
   "name": "python3"
  },
  "language_info": {
   "codemirror_mode": {
    "name": "ipython",
    "version": 3
   },
   "file_extension": ".py",
   "mimetype": "text/x-python",
   "name": "python",
   "nbconvert_exporter": "python",
   "pygments_lexer": "ipython3",
   "version": "3.11.5"
  }
 },
 "nbformat": 4,
 "nbformat_minor": 5
}
